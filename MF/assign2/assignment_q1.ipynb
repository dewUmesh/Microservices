{
  "nbformat": 4,
  "nbformat_minor": 0,
  "metadata": {
    "colab": {
      "provenance": [],
      "authorship_tag": "ABX9TyMEECZ2uc/qaLt8iGFHKnHW",
      "include_colab_link": true
    },
    "kernelspec": {
      "name": "python3",
      "display_name": "Python 3"
    },
    "language_info": {
      "name": "python"
    }
  },
  "cells": [
    {
      "cell_type": "markdown",
      "metadata": {
        "id": "view-in-github",
        "colab_type": "text"
      },
      "source": [
        "<a href=\"https://colab.research.google.com/github/dewUmesh/Microservices/blob/master/MF/assign2/assignment_q1.ipynb\" target=\"_parent\"><img src=\"https://colab.research.google.com/assets/colab-badge.svg\" alt=\"Open In Colab\"/></a>"
      ]
    },
    {
      "cell_type": "code",
      "execution_count": 1,
      "metadata": {
        "id": "bLtd82mULDPP"
      },
      "outputs": [],
      "source": [
        "import numpy as np"
      ]
    },
    {
      "cell_type": "markdown",
      "source": [
        " Generate using code a random integer matrix C of size 4×3 and a ma\u0002trix A1 defined as A1 = C\n",
        "T C and workout its characteristic equation.\n",
        "Using any software package, determine the eigenvalues and eigenvec\u0002tors.\n"
      ],
      "metadata": {
        "id": "Tjt9S6OWLNCM"
      }
    },
    {
      "cell_type": "code",
      "source": [
        "\n",
        "\n",
        "# Step 1: Generate a random integer matrix C of size 4x3\n",
        "C = np.random.randint(1, 10, size=(4, 3))\n",
        "\n",
        "# Step 2: Calculate the matrix A1 = CT * C\n",
        "# A1 = np.dot(C.T, C)\n",
        "A1=np.array([\n",
        "    [0,1,1],\n",
        "    [1,2,1],\n",
        "    [1,1,2]\n",
        "    ])\n",
        "# Step 3: Calculate the characteristic equation coefficients\n",
        "characteristic_coefficients = np.poly(A1)\n",
        "\n",
        "# Step 4: Find the eigenvalues and eigenvectors\n",
        "eigenvalues, eigenvectors = np.linalg.eig(A1)\n",
        "\n",
        "# Display the results\n",
        "print(\"Matrix C:\")\n",
        "print(C)\n",
        "print(\"\\nMatrix A1:\")\n",
        "print(A1)\n",
        "print(\"\\nCharacteristic Equation Coefficients:\")\n",
        "print(characteristic_coefficients)\n",
        "print(\"\\nEigenvalues:\")\n",
        "print(eigenvalues)\n",
        "print(\"\\nEigenvectors:\")\n",
        "print(eigenvectors)"
      ],
      "metadata": {
        "id": "Aug0S7xALOB3"
      },
      "execution_count": null,
      "outputs": []
    }
  ]
}