{
  "nbformat": 4,
  "nbformat_minor": 0,
  "metadata": {
    "colab": {
      "provenance": [],
      "authorship_tag": "ABX9TyNX+Rr2dJ0L1gvux+O5pY8X",
      "include_colab_link": true
    },
    "kernelspec": {
      "name": "python3",
      "display_name": "Python 3"
    },
    "language_info": {
      "name": "python"
    }
  },
  "cells": [
    {
      "cell_type": "markdown",
      "metadata": {
        "id": "view-in-github",
        "colab_type": "text"
      },
      "source": [
        "<a href=\"https://colab.research.google.com/github/dewUmesh/Microservices/blob/master/Train%20model%20using%20gradient.ipynb\" target=\"_parent\"><img src=\"https://colab.research.google.com/assets/colab-badge.svg\" alt=\"Open In Colab\"/></a>"
      ]
    },
    {
      "cell_type": "markdown",
      "source": [
        " we can train the model using the following steps:\n",
        "\n",
        "  1. Generate predictions\n",
        "\n",
        "  2. Calculate the loss\n",
        "\n",
        "  3. Compute gradients w.r.t the weights and biases\n",
        "\n",
        "  4. Adjust the weights by subtracting a small quantity proportional to the gradient\n",
        "\n",
        "  5. Reset the gradients to zero\n"
      ],
      "metadata": {
        "id": "2oxDxddhaG86"
      }
    },
    {
      "cell_type": "code",
      "execution_count": null,
      "metadata": {
        "id": "NqlV2CQeaEmV"
      },
      "outputs": [],
      "source": []
    }
  ]
}